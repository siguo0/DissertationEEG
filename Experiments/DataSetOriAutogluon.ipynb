{
 "cells": [
  {
   "cell_type": "code",
   "execution_count": 2,
   "id": "initial_id",
   "metadata": {
    "collapsed": true,
    "ExecuteTime": {
     "end_time": "2024-05-01T08:28:09.262228Z",
     "start_time": "2024-05-01T08:28:08.234092Z"
    }
   },
   "outputs": [
    {
     "name": "stdout",
     "output_type": "stream",
     "text": [
      "             0         1         2         3         4         5         6  \\\n",
      "0    -0.000014 -0.000013 -0.000007  0.000010  0.000035  0.000006 -0.000001   \n",
      "1    -0.000027 -0.000036 -0.000026 -0.000021 -0.000008 -0.000012 -0.000010   \n",
      "2    -0.000010  0.000013  0.000030  0.000025  0.000025 -0.000017 -0.000016   \n",
      "3    -0.000067 -0.000049 -0.000046 -0.000066 -0.000069 -0.000034 -0.000024   \n",
      "4     0.000010  0.000031  0.000018  0.000010  0.000020  0.000001 -0.000007   \n",
      "...        ...       ...       ...       ...       ...       ...       ...   \n",
      "9832 -0.000044 -0.000028 -0.000013 -0.000013 -0.000039 -0.000041 -0.000013   \n",
      "9833  0.000010 -0.000077  0.000003 -0.000012 -0.000063 -0.000045 -0.000127   \n",
      "9834  0.000116  0.000065  0.000086  0.000103  0.000062  0.000159  0.000125   \n",
      "9835  0.000086  0.000041 -0.000060 -0.000122 -0.000157 -0.000053 -0.000198   \n",
      "9836 -0.000031 -0.000011 -0.000020  0.000002 -0.000026  0.000026 -0.000011   \n",
      "\n",
      "             7         8         9  ...       631       632       633  \\\n",
      "0     0.000012  0.000005  0.000021  ...  0.000002 -0.000020 -0.000012   \n",
      "1    -0.000004 -0.000004 -0.000015  ... -0.000037 -0.000075 -0.000043   \n",
      "2     0.000004  0.000022  0.000022  ...  0.000042  0.000039  0.000027   \n",
      "3    -0.000016 -0.000003  0.000004  ...  0.000030 -0.000001 -0.000010   \n",
      "4     0.000039  0.000002  0.000024  ...  0.000013 -0.000004 -0.000009   \n",
      "...        ...       ...       ...  ...       ...       ...       ...   \n",
      "9832 -0.000023  0.000025 -0.000008  ... -0.000036 -0.000027 -0.000042   \n",
      "9833 -0.000146  0.000011  0.000059  ...  0.000065  0.000086  0.000062   \n",
      "9834  0.000071  0.000057 -0.000009  ... -0.000175 -0.000200 -0.000194   \n",
      "9835 -0.000231 -0.000256 -0.000204  ... -0.000082 -0.000062 -0.000078   \n",
      "9836 -0.000036 -0.000017 -0.000023  ... -0.000206 -0.000206 -0.000231   \n",
      "\n",
      "           634       635       636       637       638       639  target  \n",
      "0     0.000003  0.000016 -0.000002 -0.000005 -0.000020 -0.000020      30  \n",
      "1    -0.000032 -0.000047 -0.000004  0.000002 -0.000018 -0.000022      40  \n",
      "2     0.000025  0.000024  0.000032  0.000039  0.000031  0.000013      30  \n",
      "3     0.000002  0.000002 -0.000029 -0.000046  0.000036  0.000047      40  \n",
      "4     0.000003 -0.000003  0.000000 -0.000027 -0.000029 -0.000024      40  \n",
      "...        ...       ...       ...       ...       ...       ...     ...  \n",
      "9832 -0.000042 -0.000062 -0.000065 -0.000011 -0.000049 -0.000077      20  \n",
      "9833  0.000108  0.000060 -0.000008  0.000050  0.000106  0.000086      10  \n",
      "9834 -0.000210 -0.000244 -0.000250 -0.000185 -0.000260 -0.000253      20  \n",
      "9835 -0.000098 -0.000145 -0.000076 -0.000122 -0.000062 -0.000084      10  \n",
      "9836 -0.000157 -0.000154 -0.000158 -0.000109 -0.000162 -0.000094      20  \n",
      "\n",
      "[9837 rows x 641 columns]\n",
      "target\n",
      "10    2479\n",
      "30    2465\n",
      "40    2455\n",
      "20    2438\n",
      "Name: count, dtype: int64\n"
     ]
    }
   ],
   "source": [
    "import pandas as pd\n",
    "from autogluon.tabular import TabularPredictor\n",
    "\n",
    "train = pd.read_csv('../../dataset/DataSet.csv')\n",
    "train = train[train.target!=0].drop('Task', axis=1).reset_index(drop=True)\n",
    "print(train)\n",
    "print(train.target.value_counts())"
   ]
  },
  {
   "cell_type": "code",
   "execution_count": 3,
   "outputs": [
    {
     "name": "stderr",
     "output_type": "stream",
     "text": [
      "No path specified. Models will be saved in: \"AutogluonModels/ag-20240501_082817\"\n",
      "No presets specified! To achieve strong results with AutoGluon, it is recommended to use the available presets.\n",
      "\tRecommended Presets (For more details refer to https://auto.gluon.ai/stable/tutorials/tabular/tabular-essentials.html#presets):\n",
      "\tpresets='best_quality'   : Maximize accuracy. Default time_limit=3600.\n",
      "\tpresets='high_quality'   : Strong accuracy with fast inference speed. Default time_limit=3600.\n",
      "\tpresets='good_quality'   : Good accuracy with very fast inference speed. Default time_limit=3600.\n",
      "\tpresets='medium_quality' : Fast training time, ideal for initial prototyping.\n",
      "Warning: Training may take a very long time because `time_limit` was not specified and `train_data` is large (9837 samples, 50.44 MB).\n",
      "\tConsider setting `time_limit` to ensure training finishes within an expected duration or experiment with a small portion of `train_data` to identify an ideal `presets` and `hyperparameters` configuration.\n",
      "Beginning AutoGluon training ...\n",
      "AutoGluon will save models to \"AutogluonModels/ag-20240501_082817\"\n",
      "=================== System Info ===================\n",
      "AutoGluon Version:  1.0.0\n",
      "Python Version:     3.8.19\n",
      "Operating System:   Darwin\n",
      "Platform Machine:   arm64\n",
      "Platform Version:   Darwin Kernel Version 23.3.0: Wed Dec 20 21:33:31 PST 2023; root:xnu-10002.81.5~7/RELEASE_ARM64_T8112\n",
      "CPU Count:          8\n",
      "Memory Avail:       5.37 GB / 16.00 GB (33.5%)\n",
      "Disk Space Avail:   27.97 GB / 228.27 GB (12.3%)\n",
      "===================================================\n",
      "Train Data Rows:    9837\n",
      "Train Data Columns: 640\n",
      "Label Column:       target\n",
      "AutoGluon infers your prediction problem is: 'multiclass' (because dtype of label-column == int, but few unique label-values observed).\n",
      "\t4 unique label values:  [30, 40, 20, 10]\n",
      "\tIf 'multiclass' is not the correct problem_type, please manually specify the problem_type parameter during predictor init (You may specify problem_type as one of: ['binary', 'multiclass', 'regression'])\n",
      "Problem Type:       multiclass\n",
      "Preprocessing data ...\n",
      "Train Data Class Count: 4\n",
      "Using Feature Generators to preprocess the data ...\n",
      "Fitting AutoMLPipelineFeatureGenerator...\n",
      "\tAvailable Memory:                    5540.99 MB\n",
      "\tTrain Data (Original)  Memory Usage: 48.03 MB (0.9% of available memory)\n",
      "\tInferring data type of each feature based on column values. Set feature_metadata_in to manually specify special dtypes of the features.\n",
      "\tStage 1 Generators:\n",
      "\t\tFitting AsTypeFeatureGenerator...\n",
      "\tStage 2 Generators:\n",
      "\t\tFitting FillNaFeatureGenerator...\n",
      "\tStage 3 Generators:\n",
      "\t\tFitting IdentityFeatureGenerator...\n",
      "\tStage 4 Generators:\n",
      "\t\tFitting DropUniqueFeatureGenerator...\n",
      "\tStage 5 Generators:\n",
      "\t\tFitting DropDuplicatesFeatureGenerator...\n",
      "\tTypes of features in original data (raw dtype, special dtypes):\n",
      "\t\t('float', []) : 640 | ['0', '1', '2', '3', '4', ...]\n",
      "\tTypes of features in processed data (raw dtype, special dtypes):\n",
      "\t\t('float', []) : 640 | ['0', '1', '2', '3', '4', ...]\n",
      "\t0.6s = Fit runtime\n",
      "\t640 features in original data used to generate 640 features in processed data.\n",
      "\tTrain Data (Processed) Memory Usage: 48.03 MB (0.9% of available memory)\n",
      "Data preprocessing and feature engineering runtime = 0.7s ...\n",
      "AutoGluon will gauge predictive performance using evaluation metric: 'accuracy'\n",
      "\tTo change this, specify the eval_metric parameter of Predictor()\n",
      "Automatically generating train/validation split with holdout_frac=0.1, Train Rows: 8853, Val Rows: 984\n",
      "User-specified model hyperparameters to be fit:\n",
      "{\n",
      "\t'NN_TORCH': {},\n",
      "\t'GBM': [{'extra_trees': True, 'ag_args': {'name_suffix': 'XT'}}, {}, 'GBMLarge'],\n",
      "\t'CAT': {},\n",
      "\t'XGB': {},\n",
      "\t'FASTAI': {},\n",
      "\t'RF': [{'criterion': 'gini', 'ag_args': {'name_suffix': 'Gini', 'problem_types': ['binary', 'multiclass']}}, {'criterion': 'entropy', 'ag_args': {'name_suffix': 'Entr', 'problem_types': ['binary', 'multiclass']}}, {'criterion': 'squared_error', 'ag_args': {'name_suffix': 'MSE', 'problem_types': ['regression', 'quantile']}}],\n",
      "\t'XT': [{'criterion': 'gini', 'ag_args': {'name_suffix': 'Gini', 'problem_types': ['binary', 'multiclass']}}, {'criterion': 'entropy', 'ag_args': {'name_suffix': 'Entr', 'problem_types': ['binary', 'multiclass']}}, {'criterion': 'squared_error', 'ag_args': {'name_suffix': 'MSE', 'problem_types': ['regression', 'quantile']}}],\n",
      "\t'KNN': [{'weights': 'uniform', 'ag_args': {'name_suffix': 'Unif'}}, {'weights': 'distance', 'ag_args': {'name_suffix': 'Dist'}}],\n",
      "}\n",
      "Fitting 13 L1 models ...\n",
      "Fitting model: KNeighborsUnif ...\n",
      "\t0.2805\t = Validation score   (accuracy)\n",
      "\t0.92s\t = Training   runtime\n",
      "\t0.12s\t = Validation runtime\n",
      "Fitting model: KNeighborsDist ...\n",
      "\t0.2652\t = Validation score   (accuracy)\n",
      "\t0.1s\t = Training   runtime\n",
      "\t0.09s\t = Validation runtime\n",
      "Fitting model: NeuralNetFastAI ...\n",
      "\t0.3425\t = Validation score   (accuracy)\n",
      "\t7.51s\t = Training   runtime\n",
      "\t0.01s\t = Validation runtime\n",
      "Fitting model: LightGBMXT ...\n"
     ]
    },
    {
     "name": "stdout",
     "output_type": "stream",
     "text": [
      "[1000]\tvalid_set's multi_error: 0.666667\n"
     ]
    },
    {
     "name": "stderr",
     "output_type": "stream",
     "text": [
      "\t0.3547\t = Validation score   (accuracy)\n",
      "\t39.82s\t = Training   runtime\n",
      "\t0.04s\t = Validation runtime\n",
      "Fitting model: LightGBM ...\n",
      "\t0.3537\t = Validation score   (accuracy)\n",
      "\t27.96s\t = Training   runtime\n",
      "\t0.01s\t = Validation runtime\n",
      "Fitting model: RandomForestGini ...\n",
      "\t0.3191\t = Validation score   (accuracy)\n",
      "\t7.13s\t = Training   runtime\n",
      "\t0.04s\t = Validation runtime\n",
      "Fitting model: RandomForestEntr ...\n",
      "\t0.3303\t = Validation score   (accuracy)\n",
      "\t8.83s\t = Training   runtime\n",
      "\t0.04s\t = Validation runtime\n",
      "Fitting model: CatBoost ...\n",
      "\t0.3384\t = Validation score   (accuracy)\n",
      "\t43.86s\t = Training   runtime\n",
      "\t0.01s\t = Validation runtime\n",
      "Fitting model: ExtraTreesGini ...\n",
      "\t0.3303\t = Validation score   (accuracy)\n",
      "\t1.97s\t = Training   runtime\n",
      "\t0.04s\t = Validation runtime\n",
      "Fitting model: ExtraTreesEntr ...\n",
      "\t0.2927\t = Validation score   (accuracy)\n",
      "\t2.17s\t = Training   runtime\n",
      "\t0.04s\t = Validation runtime\n",
      "Fitting model: XGBoost ...\n",
      "\t0.3537\t = Validation score   (accuracy)\n",
      "\t68.28s\t = Training   runtime\n",
      "\t0.02s\t = Validation runtime\n",
      "Fitting model: NeuralNetTorch ...\n",
      "\t0.3516\t = Validation score   (accuracy)\n",
      "\t5.3s\t = Training   runtime\n",
      "\t0.01s\t = Validation runtime\n",
      "Fitting model: LightGBMLarge ...\n",
      "\t0.3547\t = Validation score   (accuracy)\n",
      "\t145.22s\t = Training   runtime\n",
      "\t0.05s\t = Validation runtime\n",
      "Fitting model: WeightedEnsemble_L2 ...\n",
      "\tEnsemble Weights: {'LightGBMXT': 0.842, 'CatBoost': 0.105, 'NeuralNetTorch': 0.053}\n",
      "\t0.3577\t = Validation score   (accuracy)\n",
      "\t0.28s\t = Training   runtime\n",
      "\t0.0s\t = Validation runtime\n",
      "AutoGluon training complete, total runtime = 361.39s ... Best model: \"WeightedEnsemble_L2\"\n",
      "TabularPredictor saved. To load, use: predictor = TabularPredictor.load(\"AutogluonModels/ag-20240501_082817\")\n"
     ]
    },
    {
     "name": "stdout",
     "output_type": "stream",
     "text": [
      "                  model  score_val eval_metric  pred_time_val    fit_time  \\\n",
      "0   WeightedEnsemble_L2   0.357724    accuracy       0.064687   89.267344   \n",
      "1            LightGBMXT   0.354675    accuracy       0.041188   39.822146   \n",
      "2         LightGBMLarge   0.354675    accuracy       0.049218  145.215810   \n",
      "3              LightGBM   0.353659    accuracy       0.014925   27.961407   \n",
      "4               XGBoost   0.353659    accuracy       0.019524   68.277559   \n",
      "5        NeuralNetTorch   0.351626    accuracy       0.012155    5.304568   \n",
      "6       NeuralNetFastAI   0.342480    accuracy       0.012347    7.505474   \n",
      "7              CatBoost   0.338415    accuracy       0.011047   43.856968   \n",
      "8        ExtraTreesGini   0.330285    accuracy       0.038603    1.970348   \n",
      "9      RandomForestEntr   0.330285    accuracy       0.039710    8.832157   \n",
      "10     RandomForestGini   0.319106    accuracy       0.039828    7.128030   \n",
      "11       ExtraTreesEntr   0.292683    accuracy       0.041193    2.171958   \n",
      "12       KNeighborsUnif   0.280488    accuracy       0.120998    0.916569   \n",
      "13       KNeighborsDist   0.265244    accuracy       0.086841    0.099691   \n",
      "\n",
      "    pred_time_val_marginal  fit_time_marginal  stack_level  can_infer  \\\n",
      "0                 0.000297           0.283663            2       True   \n",
      "1                 0.041188          39.822146            1       True   \n",
      "2                 0.049218         145.215810            1       True   \n",
      "3                 0.014925          27.961407            1       True   \n",
      "4                 0.019524          68.277559            1       True   \n",
      "5                 0.012155           5.304568            1       True   \n",
      "6                 0.012347           7.505474            1       True   \n",
      "7                 0.011047          43.856968            1       True   \n",
      "8                 0.038603           1.970348            1       True   \n",
      "9                 0.039710           8.832157            1       True   \n",
      "10                0.039828           7.128030            1       True   \n",
      "11                0.041193           2.171958            1       True   \n",
      "12                0.120998           0.916569            1       True   \n",
      "13                0.086841           0.099691            1       True   \n",
      "\n",
      "    fit_order  \n",
      "0          14  \n",
      "1           4  \n",
      "2          13  \n",
      "3           5  \n",
      "4          11  \n",
      "5          12  \n",
      "6           3  \n",
      "7           8  \n",
      "8           9  \n",
      "9           7  \n",
      "10          6  \n",
      "11         10  \n",
      "12          1  \n",
      "13          2  \n"
     ]
    }
   ],
   "source": [
    "# 指定目标列名\n",
    "label = 'target'\n",
    "\n",
    "# 自动训练一个模型\n",
    "# 这里'save_path'是保存模型和中间产物的路径\n",
    "predictor = TabularPredictor(label=label).fit(train)\n",
    "\n",
    "print(predictor.leaderboard())"
   ],
   "metadata": {
    "collapsed": false,
    "ExecuteTime": {
     "end_time": "2024-05-01T08:34:18.760700Z",
     "start_time": "2024-05-01T08:28:17.328098Z"
    }
   },
   "id": "128caa4ab5067ec0"
  },
  {
   "cell_type": "code",
   "execution_count": 4,
   "outputs": [
    {
     "data": {
      "text/plain": "                  model  score_val eval_metric  pred_time_val    fit_time  \\\n0   WeightedEnsemble_L2   0.357724    accuracy       0.064687   89.267344   \n1            LightGBMXT   0.354675    accuracy       0.041188   39.822146   \n2         LightGBMLarge   0.354675    accuracy       0.049218  145.215810   \n3              LightGBM   0.353659    accuracy       0.014925   27.961407   \n4               XGBoost   0.353659    accuracy       0.019524   68.277559   \n5        NeuralNetTorch   0.351626    accuracy       0.012155    5.304568   \n6       NeuralNetFastAI   0.342480    accuracy       0.012347    7.505474   \n7              CatBoost   0.338415    accuracy       0.011047   43.856968   \n8        ExtraTreesGini   0.330285    accuracy       0.038603    1.970348   \n9      RandomForestEntr   0.330285    accuracy       0.039710    8.832157   \n10     RandomForestGini   0.319106    accuracy       0.039828    7.128030   \n11       ExtraTreesEntr   0.292683    accuracy       0.041193    2.171958   \n12       KNeighborsUnif   0.280488    accuracy       0.120998    0.916569   \n13       KNeighborsDist   0.265244    accuracy       0.086841    0.099691   \n\n    pred_time_val_marginal  fit_time_marginal  stack_level  can_infer  \\\n0                 0.000297           0.283663            2       True   \n1                 0.041188          39.822146            1       True   \n2                 0.049218         145.215810            1       True   \n3                 0.014925          27.961407            1       True   \n4                 0.019524          68.277559            1       True   \n5                 0.012155           5.304568            1       True   \n6                 0.012347           7.505474            1       True   \n7                 0.011047          43.856968            1       True   \n8                 0.038603           1.970348            1       True   \n9                 0.039710           8.832157            1       True   \n10                0.039828           7.128030            1       True   \n11                0.041193           2.171958            1       True   \n12                0.120998           0.916569            1       True   \n13                0.086841           0.099691            1       True   \n\n    fit_order  \n0          14  \n1           4  \n2          13  \n3           5  \n4          11  \n5          12  \n6           3  \n7           8  \n8           9  \n9           7  \n10          6  \n11         10  \n12          1  \n13          2  ",
      "text/html": "<div>\n<style scoped>\n    .dataframe tbody tr th:only-of-type {\n        vertical-align: middle;\n    }\n\n    .dataframe tbody tr th {\n        vertical-align: top;\n    }\n\n    .dataframe thead th {\n        text-align: right;\n    }\n</style>\n<table border=\"1\" class=\"dataframe\">\n  <thead>\n    <tr style=\"text-align: right;\">\n      <th></th>\n      <th>model</th>\n      <th>score_val</th>\n      <th>eval_metric</th>\n      <th>pred_time_val</th>\n      <th>fit_time</th>\n      <th>pred_time_val_marginal</th>\n      <th>fit_time_marginal</th>\n      <th>stack_level</th>\n      <th>can_infer</th>\n      <th>fit_order</th>\n    </tr>\n  </thead>\n  <tbody>\n    <tr>\n      <th>0</th>\n      <td>WeightedEnsemble_L2</td>\n      <td>0.357724</td>\n      <td>accuracy</td>\n      <td>0.064687</td>\n      <td>89.267344</td>\n      <td>0.000297</td>\n      <td>0.283663</td>\n      <td>2</td>\n      <td>True</td>\n      <td>14</td>\n    </tr>\n    <tr>\n      <th>1</th>\n      <td>LightGBMXT</td>\n      <td>0.354675</td>\n      <td>accuracy</td>\n      <td>0.041188</td>\n      <td>39.822146</td>\n      <td>0.041188</td>\n      <td>39.822146</td>\n      <td>1</td>\n      <td>True</td>\n      <td>4</td>\n    </tr>\n    <tr>\n      <th>2</th>\n      <td>LightGBMLarge</td>\n      <td>0.354675</td>\n      <td>accuracy</td>\n      <td>0.049218</td>\n      <td>145.215810</td>\n      <td>0.049218</td>\n      <td>145.215810</td>\n      <td>1</td>\n      <td>True</td>\n      <td>13</td>\n    </tr>\n    <tr>\n      <th>3</th>\n      <td>LightGBM</td>\n      <td>0.353659</td>\n      <td>accuracy</td>\n      <td>0.014925</td>\n      <td>27.961407</td>\n      <td>0.014925</td>\n      <td>27.961407</td>\n      <td>1</td>\n      <td>True</td>\n      <td>5</td>\n    </tr>\n    <tr>\n      <th>4</th>\n      <td>XGBoost</td>\n      <td>0.353659</td>\n      <td>accuracy</td>\n      <td>0.019524</td>\n      <td>68.277559</td>\n      <td>0.019524</td>\n      <td>68.277559</td>\n      <td>1</td>\n      <td>True</td>\n      <td>11</td>\n    </tr>\n    <tr>\n      <th>5</th>\n      <td>NeuralNetTorch</td>\n      <td>0.351626</td>\n      <td>accuracy</td>\n      <td>0.012155</td>\n      <td>5.304568</td>\n      <td>0.012155</td>\n      <td>5.304568</td>\n      <td>1</td>\n      <td>True</td>\n      <td>12</td>\n    </tr>\n    <tr>\n      <th>6</th>\n      <td>NeuralNetFastAI</td>\n      <td>0.342480</td>\n      <td>accuracy</td>\n      <td>0.012347</td>\n      <td>7.505474</td>\n      <td>0.012347</td>\n      <td>7.505474</td>\n      <td>1</td>\n      <td>True</td>\n      <td>3</td>\n    </tr>\n    <tr>\n      <th>7</th>\n      <td>CatBoost</td>\n      <td>0.338415</td>\n      <td>accuracy</td>\n      <td>0.011047</td>\n      <td>43.856968</td>\n      <td>0.011047</td>\n      <td>43.856968</td>\n      <td>1</td>\n      <td>True</td>\n      <td>8</td>\n    </tr>\n    <tr>\n      <th>8</th>\n      <td>ExtraTreesGini</td>\n      <td>0.330285</td>\n      <td>accuracy</td>\n      <td>0.038603</td>\n      <td>1.970348</td>\n      <td>0.038603</td>\n      <td>1.970348</td>\n      <td>1</td>\n      <td>True</td>\n      <td>9</td>\n    </tr>\n    <tr>\n      <th>9</th>\n      <td>RandomForestEntr</td>\n      <td>0.330285</td>\n      <td>accuracy</td>\n      <td>0.039710</td>\n      <td>8.832157</td>\n      <td>0.039710</td>\n      <td>8.832157</td>\n      <td>1</td>\n      <td>True</td>\n      <td>7</td>\n    </tr>\n    <tr>\n      <th>10</th>\n      <td>RandomForestGini</td>\n      <td>0.319106</td>\n      <td>accuracy</td>\n      <td>0.039828</td>\n      <td>7.128030</td>\n      <td>0.039828</td>\n      <td>7.128030</td>\n      <td>1</td>\n      <td>True</td>\n      <td>6</td>\n    </tr>\n    <tr>\n      <th>11</th>\n      <td>ExtraTreesEntr</td>\n      <td>0.292683</td>\n      <td>accuracy</td>\n      <td>0.041193</td>\n      <td>2.171958</td>\n      <td>0.041193</td>\n      <td>2.171958</td>\n      <td>1</td>\n      <td>True</td>\n      <td>10</td>\n    </tr>\n    <tr>\n      <th>12</th>\n      <td>KNeighborsUnif</td>\n      <td>0.280488</td>\n      <td>accuracy</td>\n      <td>0.120998</td>\n      <td>0.916569</td>\n      <td>0.120998</td>\n      <td>0.916569</td>\n      <td>1</td>\n      <td>True</td>\n      <td>1</td>\n    </tr>\n    <tr>\n      <th>13</th>\n      <td>KNeighborsDist</td>\n      <td>0.265244</td>\n      <td>accuracy</td>\n      <td>0.086841</td>\n      <td>0.099691</td>\n      <td>0.086841</td>\n      <td>0.099691</td>\n      <td>1</td>\n      <td>True</td>\n      <td>2</td>\n    </tr>\n  </tbody>\n</table>\n</div>"
     },
     "execution_count": 4,
     "metadata": {},
     "output_type": "execute_result"
    }
   ],
   "source": [
    "predictor.leaderboard()"
   ],
   "metadata": {
    "collapsed": false,
    "ExecuteTime": {
     "end_time": "2024-05-01T08:34:18.790034Z",
     "start_time": "2024-05-01T08:34:18.765860Z"
    }
   },
   "id": "2f2901a277c94817"
  },
  {
   "cell_type": "code",
   "execution_count": null,
   "outputs": [],
   "source": [],
   "metadata": {
    "collapsed": false
   },
   "id": "8c157941d269d834"
  }
 ],
 "metadata": {
  "kernelspec": {
   "display_name": "Python 3",
   "language": "python",
   "name": "python3"
  },
  "language_info": {
   "codemirror_mode": {
    "name": "ipython",
    "version": 2
   },
   "file_extension": ".py",
   "mimetype": "text/x-python",
   "name": "python",
   "nbconvert_exporter": "python",
   "pygments_lexer": "ipython2",
   "version": "2.7.6"
  }
 },
 "nbformat": 4,
 "nbformat_minor": 5
}
