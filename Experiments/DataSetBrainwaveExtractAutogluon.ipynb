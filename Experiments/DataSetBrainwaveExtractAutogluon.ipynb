{
 "cells": [
  {
   "cell_type": "code",
   "execution_count": 2,
   "outputs": [],
   "source": [
    "from scipy.signal import butter, lfilter, freqz, welch\n",
    "import matplotlib.pyplot as plt\n",
    "import numpy as np\n",
    "import pandas as pd\n",
    "\n",
    "dataset = pd.read_csv('../../dataset/DataSet.csv')\n",
    "dataset = dataset[dataset.target!=0].drop('Task', axis=1).reset_index(drop=True)"
   ],
   "metadata": {
    "collapsed": false,
    "ExecuteTime": {
     "end_time": "2024-05-01T08:36:33.312553Z",
     "start_time": "2024-05-01T08:36:32.194153Z"
    }
   },
   "id": "d7088b0144eacf90"
  },
  {
   "cell_type": "code",
   "execution_count": 3,
   "outputs": [
    {
     "data": {
      "text/plain": "             0         1         2         3         4         5         6  \\\n0    -0.000014 -0.000013 -0.000007  0.000010  0.000035  0.000006 -0.000001   \n1    -0.000027 -0.000036 -0.000026 -0.000021 -0.000008 -0.000012 -0.000010   \n2    -0.000010  0.000013  0.000030  0.000025  0.000025 -0.000017 -0.000016   \n3    -0.000067 -0.000049 -0.000046 -0.000066 -0.000069 -0.000034 -0.000024   \n4     0.000010  0.000031  0.000018  0.000010  0.000020  0.000001 -0.000007   \n...        ...       ...       ...       ...       ...       ...       ...   \n9832 -0.000044 -0.000028 -0.000013 -0.000013 -0.000039 -0.000041 -0.000013   \n9833  0.000010 -0.000077  0.000003 -0.000012 -0.000063 -0.000045 -0.000127   \n9834  0.000116  0.000065  0.000086  0.000103  0.000062  0.000159  0.000125   \n9835  0.000086  0.000041 -0.000060 -0.000122 -0.000157 -0.000053 -0.000198   \n9836 -0.000031 -0.000011 -0.000020  0.000002 -0.000026  0.000026 -0.000011   \n\n             7         8         9  ...       631       632       633  \\\n0     0.000012  0.000005  0.000021  ...  0.000002 -0.000020 -0.000012   \n1    -0.000004 -0.000004 -0.000015  ... -0.000037 -0.000075 -0.000043   \n2     0.000004  0.000022  0.000022  ...  0.000042  0.000039  0.000027   \n3    -0.000016 -0.000003  0.000004  ...  0.000030 -0.000001 -0.000010   \n4     0.000039  0.000002  0.000024  ...  0.000013 -0.000004 -0.000009   \n...        ...       ...       ...  ...       ...       ...       ...   \n9832 -0.000023  0.000025 -0.000008  ... -0.000036 -0.000027 -0.000042   \n9833 -0.000146  0.000011  0.000059  ...  0.000065  0.000086  0.000062   \n9834  0.000071  0.000057 -0.000009  ... -0.000175 -0.000200 -0.000194   \n9835 -0.000231 -0.000256 -0.000204  ... -0.000082 -0.000062 -0.000078   \n9836 -0.000036 -0.000017 -0.000023  ... -0.000206 -0.000206 -0.000231   \n\n           634       635       636       637       638       639  target  \n0     0.000003  0.000016 -0.000002 -0.000005 -0.000020 -0.000020      30  \n1    -0.000032 -0.000047 -0.000004  0.000002 -0.000018 -0.000022      40  \n2     0.000025  0.000024  0.000032  0.000039  0.000031  0.000013      30  \n3     0.000002  0.000002 -0.000029 -0.000046  0.000036  0.000047      40  \n4     0.000003 -0.000003  0.000000 -0.000027 -0.000029 -0.000024      40  \n...        ...       ...       ...       ...       ...       ...     ...  \n9832 -0.000042 -0.000062 -0.000065 -0.000011 -0.000049 -0.000077      20  \n9833  0.000108  0.000060 -0.000008  0.000050  0.000106  0.000086      10  \n9834 -0.000210 -0.000244 -0.000250 -0.000185 -0.000260 -0.000253      20  \n9835 -0.000098 -0.000145 -0.000076 -0.000122 -0.000062 -0.000084      10  \n9836 -0.000157 -0.000154 -0.000158 -0.000109 -0.000162 -0.000094      20  \n\n[9837 rows x 641 columns]",
      "text/html": "<div>\n<style scoped>\n    .dataframe tbody tr th:only-of-type {\n        vertical-align: middle;\n    }\n\n    .dataframe tbody tr th {\n        vertical-align: top;\n    }\n\n    .dataframe thead th {\n        text-align: right;\n    }\n</style>\n<table border=\"1\" class=\"dataframe\">\n  <thead>\n    <tr style=\"text-align: right;\">\n      <th></th>\n      <th>0</th>\n      <th>1</th>\n      <th>2</th>\n      <th>3</th>\n      <th>4</th>\n      <th>5</th>\n      <th>6</th>\n      <th>7</th>\n      <th>8</th>\n      <th>9</th>\n      <th>...</th>\n      <th>631</th>\n      <th>632</th>\n      <th>633</th>\n      <th>634</th>\n      <th>635</th>\n      <th>636</th>\n      <th>637</th>\n      <th>638</th>\n      <th>639</th>\n      <th>target</th>\n    </tr>\n  </thead>\n  <tbody>\n    <tr>\n      <th>0</th>\n      <td>-0.000014</td>\n      <td>-0.000013</td>\n      <td>-0.000007</td>\n      <td>0.000010</td>\n      <td>0.000035</td>\n      <td>0.000006</td>\n      <td>-0.000001</td>\n      <td>0.000012</td>\n      <td>0.000005</td>\n      <td>0.000021</td>\n      <td>...</td>\n      <td>0.000002</td>\n      <td>-0.000020</td>\n      <td>-0.000012</td>\n      <td>0.000003</td>\n      <td>0.000016</td>\n      <td>-0.000002</td>\n      <td>-0.000005</td>\n      <td>-0.000020</td>\n      <td>-0.000020</td>\n      <td>30</td>\n    </tr>\n    <tr>\n      <th>1</th>\n      <td>-0.000027</td>\n      <td>-0.000036</td>\n      <td>-0.000026</td>\n      <td>-0.000021</td>\n      <td>-0.000008</td>\n      <td>-0.000012</td>\n      <td>-0.000010</td>\n      <td>-0.000004</td>\n      <td>-0.000004</td>\n      <td>-0.000015</td>\n      <td>...</td>\n      <td>-0.000037</td>\n      <td>-0.000075</td>\n      <td>-0.000043</td>\n      <td>-0.000032</td>\n      <td>-0.000047</td>\n      <td>-0.000004</td>\n      <td>0.000002</td>\n      <td>-0.000018</td>\n      <td>-0.000022</td>\n      <td>40</td>\n    </tr>\n    <tr>\n      <th>2</th>\n      <td>-0.000010</td>\n      <td>0.000013</td>\n      <td>0.000030</td>\n      <td>0.000025</td>\n      <td>0.000025</td>\n      <td>-0.000017</td>\n      <td>-0.000016</td>\n      <td>0.000004</td>\n      <td>0.000022</td>\n      <td>0.000022</td>\n      <td>...</td>\n      <td>0.000042</td>\n      <td>0.000039</td>\n      <td>0.000027</td>\n      <td>0.000025</td>\n      <td>0.000024</td>\n      <td>0.000032</td>\n      <td>0.000039</td>\n      <td>0.000031</td>\n      <td>0.000013</td>\n      <td>30</td>\n    </tr>\n    <tr>\n      <th>3</th>\n      <td>-0.000067</td>\n      <td>-0.000049</td>\n      <td>-0.000046</td>\n      <td>-0.000066</td>\n      <td>-0.000069</td>\n      <td>-0.000034</td>\n      <td>-0.000024</td>\n      <td>-0.000016</td>\n      <td>-0.000003</td>\n      <td>0.000004</td>\n      <td>...</td>\n      <td>0.000030</td>\n      <td>-0.000001</td>\n      <td>-0.000010</td>\n      <td>0.000002</td>\n      <td>0.000002</td>\n      <td>-0.000029</td>\n      <td>-0.000046</td>\n      <td>0.000036</td>\n      <td>0.000047</td>\n      <td>40</td>\n    </tr>\n    <tr>\n      <th>4</th>\n      <td>0.000010</td>\n      <td>0.000031</td>\n      <td>0.000018</td>\n      <td>0.000010</td>\n      <td>0.000020</td>\n      <td>0.000001</td>\n      <td>-0.000007</td>\n      <td>0.000039</td>\n      <td>0.000002</td>\n      <td>0.000024</td>\n      <td>...</td>\n      <td>0.000013</td>\n      <td>-0.000004</td>\n      <td>-0.000009</td>\n      <td>0.000003</td>\n      <td>-0.000003</td>\n      <td>0.000000</td>\n      <td>-0.000027</td>\n      <td>-0.000029</td>\n      <td>-0.000024</td>\n      <td>40</td>\n    </tr>\n    <tr>\n      <th>...</th>\n      <td>...</td>\n      <td>...</td>\n      <td>...</td>\n      <td>...</td>\n      <td>...</td>\n      <td>...</td>\n      <td>...</td>\n      <td>...</td>\n      <td>...</td>\n      <td>...</td>\n      <td>...</td>\n      <td>...</td>\n      <td>...</td>\n      <td>...</td>\n      <td>...</td>\n      <td>...</td>\n      <td>...</td>\n      <td>...</td>\n      <td>...</td>\n      <td>...</td>\n      <td>...</td>\n    </tr>\n    <tr>\n      <th>9832</th>\n      <td>-0.000044</td>\n      <td>-0.000028</td>\n      <td>-0.000013</td>\n      <td>-0.000013</td>\n      <td>-0.000039</td>\n      <td>-0.000041</td>\n      <td>-0.000013</td>\n      <td>-0.000023</td>\n      <td>0.000025</td>\n      <td>-0.000008</td>\n      <td>...</td>\n      <td>-0.000036</td>\n      <td>-0.000027</td>\n      <td>-0.000042</td>\n      <td>-0.000042</td>\n      <td>-0.000062</td>\n      <td>-0.000065</td>\n      <td>-0.000011</td>\n      <td>-0.000049</td>\n      <td>-0.000077</td>\n      <td>20</td>\n    </tr>\n    <tr>\n      <th>9833</th>\n      <td>0.000010</td>\n      <td>-0.000077</td>\n      <td>0.000003</td>\n      <td>-0.000012</td>\n      <td>-0.000063</td>\n      <td>-0.000045</td>\n      <td>-0.000127</td>\n      <td>-0.000146</td>\n      <td>0.000011</td>\n      <td>0.000059</td>\n      <td>...</td>\n      <td>0.000065</td>\n      <td>0.000086</td>\n      <td>0.000062</td>\n      <td>0.000108</td>\n      <td>0.000060</td>\n      <td>-0.000008</td>\n      <td>0.000050</td>\n      <td>0.000106</td>\n      <td>0.000086</td>\n      <td>10</td>\n    </tr>\n    <tr>\n      <th>9834</th>\n      <td>0.000116</td>\n      <td>0.000065</td>\n      <td>0.000086</td>\n      <td>0.000103</td>\n      <td>0.000062</td>\n      <td>0.000159</td>\n      <td>0.000125</td>\n      <td>0.000071</td>\n      <td>0.000057</td>\n      <td>-0.000009</td>\n      <td>...</td>\n      <td>-0.000175</td>\n      <td>-0.000200</td>\n      <td>-0.000194</td>\n      <td>-0.000210</td>\n      <td>-0.000244</td>\n      <td>-0.000250</td>\n      <td>-0.000185</td>\n      <td>-0.000260</td>\n      <td>-0.000253</td>\n      <td>20</td>\n    </tr>\n    <tr>\n      <th>9835</th>\n      <td>0.000086</td>\n      <td>0.000041</td>\n      <td>-0.000060</td>\n      <td>-0.000122</td>\n      <td>-0.000157</td>\n      <td>-0.000053</td>\n      <td>-0.000198</td>\n      <td>-0.000231</td>\n      <td>-0.000256</td>\n      <td>-0.000204</td>\n      <td>...</td>\n      <td>-0.000082</td>\n      <td>-0.000062</td>\n      <td>-0.000078</td>\n      <td>-0.000098</td>\n      <td>-0.000145</td>\n      <td>-0.000076</td>\n      <td>-0.000122</td>\n      <td>-0.000062</td>\n      <td>-0.000084</td>\n      <td>10</td>\n    </tr>\n    <tr>\n      <th>9836</th>\n      <td>-0.000031</td>\n      <td>-0.000011</td>\n      <td>-0.000020</td>\n      <td>0.000002</td>\n      <td>-0.000026</td>\n      <td>0.000026</td>\n      <td>-0.000011</td>\n      <td>-0.000036</td>\n      <td>-0.000017</td>\n      <td>-0.000023</td>\n      <td>...</td>\n      <td>-0.000206</td>\n      <td>-0.000206</td>\n      <td>-0.000231</td>\n      <td>-0.000157</td>\n      <td>-0.000154</td>\n      <td>-0.000158</td>\n      <td>-0.000109</td>\n      <td>-0.000162</td>\n      <td>-0.000094</td>\n      <td>20</td>\n    </tr>\n  </tbody>\n</table>\n<p>9837 rows × 641 columns</p>\n</div>"
     },
     "execution_count": 3,
     "metadata": {},
     "output_type": "execute_result"
    }
   ],
   "source": [
    "dataset"
   ],
   "metadata": {
    "collapsed": false,
    "ExecuteTime": {
     "end_time": "2024-05-01T08:36:33.336995Z",
     "start_time": "2024-05-01T08:36:33.317252Z"
    }
   },
   "id": "3868a08dd80f2bc8"
  },
  {
   "cell_type": "code",
   "execution_count": 4,
   "outputs": [],
   "source": [
    "# extract mean brainwave\n",
    "fs = 160  # 采样频率\n",
    "\n",
    "# 定义带通滤波器函数\n",
    "def bandpass_filter(data, low, high, sfreq=160, order=5):\n",
    "    nyq = 0.5 * sfreq\n",
    "    low = low / nyq\n",
    "    high = high / nyq\n",
    "    b, a = butter(order, [low, high], btype='band')\n",
    "    y = lfilter(b, a, data)\n",
    "    return y\n",
    "\n",
    "# 定义一个函数来应用所有的滤波器并返回结果\n",
    "def apply_filters(row, sfreq=160):\n",
    "    filters = {\n",
    "        'delta': (0.1, 3),\n",
    "        'theta': (4, 7),\n",
    "        'alpha_slow': (8, 9),\n",
    "        'alpha_middle': (9, 12),\n",
    "        'alpha_fast': (12, 14),\n",
    "        'beta_low': (12.5, 16),\n",
    "        'beta_middle': (16.5, 20),\n",
    "        'beta_high': (20.5, 28),\n",
    "        'gamma': (25, 60)\n",
    "    }\n",
    "    results = {}\n",
    "    for key, (low, high) in filters.items():\n",
    "        filtered_data = bandpass_filter(row, low, high, sfreq)\n",
    "        results[key + '_mean'] = np.mean(filtered_data)  # 直接计算并保存平均值\n",
    "    return pd.Series(results)\n",
    "\n",
    "# 假设 dataset 是一个 n*640 的 DataFrame\n",
    "# 应用滤波器并计算每行的平均值\n",
    "mean_brainwaves = dataset.drop('target',axis=1).apply(apply_filters, axis=1)\n",
    "mean_brainwaves['target'] = dataset.target"
   ],
   "metadata": {
    "collapsed": false,
    "ExecuteTime": {
     "end_time": "2024-05-01T08:36:57.377818Z",
     "start_time": "2024-05-01T08:36:45.677892Z"
    }
   },
   "id": "initial_id"
  },
  {
   "cell_type": "code",
   "execution_count": 5,
   "outputs": [
    {
     "data": {
      "text/plain": "      delta_mean    theta_mean  alpha_slow_mean  alpha_middle_mean  \\\n0      -0.000015 -4.899878e-08    -2.045790e-08      -1.873350e-08   \n1      -0.000004  1.178347e-08     2.180244e-08       1.650733e-09   \n2       0.000059 -1.101760e-08    -2.255887e-08       4.078502e-09   \n3      -0.000006 -4.300523e-08     1.612889e-08      -2.493651e-08   \n4       0.000058  4.616067e-08    -1.213564e-08       6.151335e-09   \n...          ...           ...              ...                ...   \n9832    0.000716  3.968427e-08     1.487511e-08      -1.027647e-08   \n9833    0.000235 -2.181069e-09    -3.639633e-08      -6.875953e-08   \n9834    0.001104 -1.210862e-07    -1.730512e-08       2.579694e-08   \n9835   -0.000860  2.961705e-08    -1.797454e-08       3.760366e-08   \n9836    0.000403  8.546658e-07    -7.160548e-08      -1.368719e-08   \n\n      alpha_fast_mean  beta_low_mean  beta_middle_mean  beta_high_mean  \\\n0       -1.149191e-08   3.755529e-09      1.229423e-08   -4.257819e-10   \n1        2.543684e-08  -1.964601e-08      7.445221e-09    1.255333e-08   \n2       -8.691410e-09  -1.541009e-08     -7.963366e-09    1.998614e-08   \n3       -2.232885e-08   8.203456e-09     -4.043102e-10    2.011623e-08   \n4        2.960803e-08  -3.527544e-09      6.119341e-10    1.871087e-08   \n...               ...            ...               ...             ...   \n9832     3.418260e-09  -3.412457e-09      2.328181e-08    1.269855e-08   \n9833    -1.442593e-08   2.401021e-08      2.053111e-08    1.449368e-08   \n9834    -3.457925e-08   3.872236e-08     -2.733391e-08   -4.741316e-10   \n9835     1.088559e-08  -1.164884e-08      1.031503e-08    1.006632e-08   \n9836    -7.860342e-09   2.287149e-08      9.628905e-10   -2.466635e-08   \n\n        gamma_mean  target  \n0     1.552808e-08      30  \n1    -9.772046e-09      40  \n2    -5.487397e-09      30  \n3     1.452681e-08      40  \n4     1.333430e-08      40  \n...            ...     ...  \n9832 -4.786711e-09      20  \n9833  1.238511e-08      10  \n9834 -1.959760e-08      20  \n9835 -2.895528e-08      10  \n9836  2.361028e-08      20  \n\n[9837 rows x 10 columns]",
      "text/html": "<div>\n<style scoped>\n    .dataframe tbody tr th:only-of-type {\n        vertical-align: middle;\n    }\n\n    .dataframe tbody tr th {\n        vertical-align: top;\n    }\n\n    .dataframe thead th {\n        text-align: right;\n    }\n</style>\n<table border=\"1\" class=\"dataframe\">\n  <thead>\n    <tr style=\"text-align: right;\">\n      <th></th>\n      <th>delta_mean</th>\n      <th>theta_mean</th>\n      <th>alpha_slow_mean</th>\n      <th>alpha_middle_mean</th>\n      <th>alpha_fast_mean</th>\n      <th>beta_low_mean</th>\n      <th>beta_middle_mean</th>\n      <th>beta_high_mean</th>\n      <th>gamma_mean</th>\n      <th>target</th>\n    </tr>\n  </thead>\n  <tbody>\n    <tr>\n      <th>0</th>\n      <td>-0.000015</td>\n      <td>-4.899878e-08</td>\n      <td>-2.045790e-08</td>\n      <td>-1.873350e-08</td>\n      <td>-1.149191e-08</td>\n      <td>3.755529e-09</td>\n      <td>1.229423e-08</td>\n      <td>-4.257819e-10</td>\n      <td>1.552808e-08</td>\n      <td>30</td>\n    </tr>\n    <tr>\n      <th>1</th>\n      <td>-0.000004</td>\n      <td>1.178347e-08</td>\n      <td>2.180244e-08</td>\n      <td>1.650733e-09</td>\n      <td>2.543684e-08</td>\n      <td>-1.964601e-08</td>\n      <td>7.445221e-09</td>\n      <td>1.255333e-08</td>\n      <td>-9.772046e-09</td>\n      <td>40</td>\n    </tr>\n    <tr>\n      <th>2</th>\n      <td>0.000059</td>\n      <td>-1.101760e-08</td>\n      <td>-2.255887e-08</td>\n      <td>4.078502e-09</td>\n      <td>-8.691410e-09</td>\n      <td>-1.541009e-08</td>\n      <td>-7.963366e-09</td>\n      <td>1.998614e-08</td>\n      <td>-5.487397e-09</td>\n      <td>30</td>\n    </tr>\n    <tr>\n      <th>3</th>\n      <td>-0.000006</td>\n      <td>-4.300523e-08</td>\n      <td>1.612889e-08</td>\n      <td>-2.493651e-08</td>\n      <td>-2.232885e-08</td>\n      <td>8.203456e-09</td>\n      <td>-4.043102e-10</td>\n      <td>2.011623e-08</td>\n      <td>1.452681e-08</td>\n      <td>40</td>\n    </tr>\n    <tr>\n      <th>4</th>\n      <td>0.000058</td>\n      <td>4.616067e-08</td>\n      <td>-1.213564e-08</td>\n      <td>6.151335e-09</td>\n      <td>2.960803e-08</td>\n      <td>-3.527544e-09</td>\n      <td>6.119341e-10</td>\n      <td>1.871087e-08</td>\n      <td>1.333430e-08</td>\n      <td>40</td>\n    </tr>\n    <tr>\n      <th>...</th>\n      <td>...</td>\n      <td>...</td>\n      <td>...</td>\n      <td>...</td>\n      <td>...</td>\n      <td>...</td>\n      <td>...</td>\n      <td>...</td>\n      <td>...</td>\n      <td>...</td>\n    </tr>\n    <tr>\n      <th>9832</th>\n      <td>0.000716</td>\n      <td>3.968427e-08</td>\n      <td>1.487511e-08</td>\n      <td>-1.027647e-08</td>\n      <td>3.418260e-09</td>\n      <td>-3.412457e-09</td>\n      <td>2.328181e-08</td>\n      <td>1.269855e-08</td>\n      <td>-4.786711e-09</td>\n      <td>20</td>\n    </tr>\n    <tr>\n      <th>9833</th>\n      <td>0.000235</td>\n      <td>-2.181069e-09</td>\n      <td>-3.639633e-08</td>\n      <td>-6.875953e-08</td>\n      <td>-1.442593e-08</td>\n      <td>2.401021e-08</td>\n      <td>2.053111e-08</td>\n      <td>1.449368e-08</td>\n      <td>1.238511e-08</td>\n      <td>10</td>\n    </tr>\n    <tr>\n      <th>9834</th>\n      <td>0.001104</td>\n      <td>-1.210862e-07</td>\n      <td>-1.730512e-08</td>\n      <td>2.579694e-08</td>\n      <td>-3.457925e-08</td>\n      <td>3.872236e-08</td>\n      <td>-2.733391e-08</td>\n      <td>-4.741316e-10</td>\n      <td>-1.959760e-08</td>\n      <td>20</td>\n    </tr>\n    <tr>\n      <th>9835</th>\n      <td>-0.000860</td>\n      <td>2.961705e-08</td>\n      <td>-1.797454e-08</td>\n      <td>3.760366e-08</td>\n      <td>1.088559e-08</td>\n      <td>-1.164884e-08</td>\n      <td>1.031503e-08</td>\n      <td>1.006632e-08</td>\n      <td>-2.895528e-08</td>\n      <td>10</td>\n    </tr>\n    <tr>\n      <th>9836</th>\n      <td>0.000403</td>\n      <td>8.546658e-07</td>\n      <td>-7.160548e-08</td>\n      <td>-1.368719e-08</td>\n      <td>-7.860342e-09</td>\n      <td>2.287149e-08</td>\n      <td>9.628905e-10</td>\n      <td>-2.466635e-08</td>\n      <td>2.361028e-08</td>\n      <td>20</td>\n    </tr>\n  </tbody>\n</table>\n<p>9837 rows × 10 columns</p>\n</div>"
     },
     "execution_count": 5,
     "metadata": {},
     "output_type": "execute_result"
    }
   ],
   "source": [
    "mean_brainwaves"
   ],
   "metadata": {
    "collapsed": false,
    "ExecuteTime": {
     "end_time": "2024-05-01T08:37:32.047036Z",
     "start_time": "2024-05-01T08:37:32.039877Z"
    }
   },
   "id": "f704d9784441baa2"
  },
  {
   "cell_type": "code",
   "execution_count": 6,
   "outputs": [
    {
     "name": "stderr",
     "output_type": "stream",
     "text": [
      "No path specified. Models will be saved in: \"AutogluonModels/ag-20240501_083744\"\n",
      "No presets specified! To achieve strong results with AutoGluon, it is recommended to use the available presets.\n",
      "\tRecommended Presets (For more details refer to https://auto.gluon.ai/stable/tutorials/tabular/tabular-essentials.html#presets):\n",
      "\tpresets='best_quality'   : Maximize accuracy. Default time_limit=3600.\n",
      "\tpresets='high_quality'   : Strong accuracy with fast inference speed. Default time_limit=3600.\n",
      "\tpresets='good_quality'   : Good accuracy with very fast inference speed. Default time_limit=3600.\n",
      "\tpresets='medium_quality' : Fast training time, ideal for initial prototyping.\n",
      "Beginning AutoGluon training ...\n",
      "AutoGluon will save models to \"AutogluonModels/ag-20240501_083744\"\n",
      "=================== System Info ===================\n",
      "AutoGluon Version:  1.0.0\n",
      "Python Version:     3.8.19\n",
      "Operating System:   Darwin\n",
      "Platform Machine:   arm64\n",
      "Platform Version:   Darwin Kernel Version 23.3.0: Wed Dec 20 21:33:31 PST 2023; root:xnu-10002.81.5~7/RELEASE_ARM64_T8112\n",
      "CPU Count:          8\n",
      "Memory Avail:       4.92 GB / 16.00 GB (30.8%)\n",
      "Disk Space Avail:   27.37 GB / 228.27 GB (12.0%)\n",
      "===================================================\n",
      "Train Data Rows:    9837\n",
      "Train Data Columns: 9\n",
      "Label Column:       target\n",
      "AutoGluon infers your prediction problem is: 'multiclass' (because dtype of label-column == int, but few unique label-values observed).\n",
      "\t4 unique label values:  [30, 40, 20, 10]\n",
      "\tIf 'multiclass' is not the correct problem_type, please manually specify the problem_type parameter during predictor init (You may specify problem_type as one of: ['binary', 'multiclass', 'regression'])\n",
      "Problem Type:       multiclass\n",
      "Preprocessing data ...\n",
      "Train Data Class Count: 4\n",
      "Using Feature Generators to preprocess the data ...\n",
      "Fitting AutoMLPipelineFeatureGenerator...\n",
      "\tAvailable Memory:                    5041.58 MB\n",
      "\tTrain Data (Original)  Memory Usage: 0.68 MB (0.0% of available memory)\n",
      "\tInferring data type of each feature based on column values. Set feature_metadata_in to manually specify special dtypes of the features.\n",
      "\tStage 1 Generators:\n",
      "\t\tFitting AsTypeFeatureGenerator...\n",
      "\tStage 2 Generators:\n",
      "\t\tFitting FillNaFeatureGenerator...\n",
      "\tStage 3 Generators:\n",
      "\t\tFitting IdentityFeatureGenerator...\n",
      "\tStage 4 Generators:\n",
      "\t\tFitting DropUniqueFeatureGenerator...\n",
      "\tStage 5 Generators:\n",
      "\t\tFitting DropDuplicatesFeatureGenerator...\n",
      "\tTypes of features in original data (raw dtype, special dtypes):\n",
      "\t\t('float', []) : 9 | ['delta_mean', 'theta_mean', 'alpha_slow_mean', 'alpha_middle_mean', 'alpha_fast_mean', ...]\n",
      "\tTypes of features in processed data (raw dtype, special dtypes):\n",
      "\t\t('float', []) : 9 | ['delta_mean', 'theta_mean', 'alpha_slow_mean', 'alpha_middle_mean', 'alpha_fast_mean', ...]\n",
      "\t0.0s = Fit runtime\n",
      "\t9 features in original data used to generate 9 features in processed data.\n",
      "\tTrain Data (Processed) Memory Usage: 0.68 MB (0.0% of available memory)\n",
      "Data preprocessing and feature engineering runtime = 0.06s ...\n",
      "AutoGluon will gauge predictive performance using evaluation metric: 'accuracy'\n",
      "\tTo change this, specify the eval_metric parameter of Predictor()\n",
      "Automatically generating train/validation split with holdout_frac=0.1, Train Rows: 8853, Val Rows: 984\n",
      "User-specified model hyperparameters to be fit:\n",
      "{\n",
      "\t'NN_TORCH': {},\n",
      "\t'GBM': [{'extra_trees': True, 'ag_args': {'name_suffix': 'XT'}}, {}, 'GBMLarge'],\n",
      "\t'CAT': {},\n",
      "\t'XGB': {},\n",
      "\t'FASTAI': {},\n",
      "\t'RF': [{'criterion': 'gini', 'ag_args': {'name_suffix': 'Gini', 'problem_types': ['binary', 'multiclass']}}, {'criterion': 'entropy', 'ag_args': {'name_suffix': 'Entr', 'problem_types': ['binary', 'multiclass']}}, {'criterion': 'squared_error', 'ag_args': {'name_suffix': 'MSE', 'problem_types': ['regression', 'quantile']}}],\n",
      "\t'XT': [{'criterion': 'gini', 'ag_args': {'name_suffix': 'Gini', 'problem_types': ['binary', 'multiclass']}}, {'criterion': 'entropy', 'ag_args': {'name_suffix': 'Entr', 'problem_types': ['binary', 'multiclass']}}, {'criterion': 'squared_error', 'ag_args': {'name_suffix': 'MSE', 'problem_types': ['regression', 'quantile']}}],\n",
      "\t'KNN': [{'weights': 'uniform', 'ag_args': {'name_suffix': 'Unif'}}, {'weights': 'distance', 'ag_args': {'name_suffix': 'Dist'}}],\n",
      "}\n",
      "Fitting 13 L1 models ...\n",
      "Fitting model: KNeighborsUnif ...\n",
      "\t0.2551\t = Validation score   (accuracy)\n",
      "\t0.75s\t = Training   runtime\n",
      "\t0.03s\t = Validation runtime\n",
      "Fitting model: KNeighborsDist ...\n",
      "\t0.2673\t = Validation score   (accuracy)\n",
      "\t0.01s\t = Training   runtime\n",
      "\t0.01s\t = Validation runtime\n",
      "Fitting model: NeuralNetFastAI ...\n",
      "\t0.2866\t = Validation score   (accuracy)\n",
      "\t4.33s\t = Training   runtime\n",
      "\t0.01s\t = Validation runtime\n",
      "Fitting model: LightGBMXT ...\n",
      "\t0.2744\t = Validation score   (accuracy)\n",
      "\t3.59s\t = Training   runtime\n",
      "\t0.0s\t = Validation runtime\n",
      "Fitting model: LightGBM ...\n",
      "\t0.2866\t = Validation score   (accuracy)\n",
      "\t3.28s\t = Training   runtime\n",
      "\t0.0s\t = Validation runtime\n",
      "Fitting model: RandomForestGini ...\n",
      "\t0.2703\t = Validation score   (accuracy)\n",
      "\t0.51s\t = Training   runtime\n",
      "\t0.04s\t = Validation runtime\n",
      "Fitting model: RandomForestEntr ...\n",
      "\t0.2693\t = Validation score   (accuracy)\n",
      "\t0.48s\t = Training   runtime\n",
      "\t0.04s\t = Validation runtime\n",
      "Fitting model: CatBoost ...\n",
      "\t0.2764\t = Validation score   (accuracy)\n",
      "\t1.2s\t = Training   runtime\n",
      "\t0.0s\t = Validation runtime\n",
      "Fitting model: ExtraTreesGini ...\n",
      "\t0.2551\t = Validation score   (accuracy)\n",
      "\t0.53s\t = Training   runtime\n",
      "\t0.07s\t = Validation runtime\n",
      "Fitting model: ExtraTreesEntr ...\n",
      "\t0.2551\t = Validation score   (accuracy)\n",
      "\t0.59s\t = Training   runtime\n",
      "\t0.05s\t = Validation runtime\n",
      "Fitting model: XGBoost ...\n",
      "\t0.2846\t = Validation score   (accuracy)\n",
      "\t2.07s\t = Training   runtime\n",
      "\t0.0s\t = Validation runtime\n",
      "Fitting model: NeuralNetTorch ...\n",
      "\t0.2856\t = Validation score   (accuracy)\n",
      "\t5.14s\t = Training   runtime\n",
      "\t0.0s\t = Validation runtime\n",
      "Fitting model: LightGBMLarge ...\n",
      "\t0.2825\t = Validation score   (accuracy)\n",
      "\t12.7s\t = Training   runtime\n",
      "\t0.0s\t = Validation runtime\n",
      "Fitting model: WeightedEnsemble_L2 ...\n",
      "\tEnsemble Weights: {'LightGBM': 0.409, 'LightGBMLarge': 0.182, 'NeuralNetFastAI': 0.152, 'CatBoost': 0.091, 'RandomForestEntr': 0.061, 'XGBoost': 0.045, 'KNeighborsDist': 0.015, 'LightGBMXT': 0.015, 'RandomForestGini': 0.015, 'ExtraTreesEntr': 0.015}\n",
      "\t0.3079\t = Validation score   (accuracy)\n",
      "\t0.32s\t = Training   runtime\n",
      "\t0.0s\t = Validation runtime\n",
      "AutoGluon training complete, total runtime = 36.25s ... Best model: \"WeightedEnsemble_L2\"\n",
      "TabularPredictor saved. To load, use: predictor = TabularPredictor.load(\"AutogluonModels/ag-20240501_083744\")\n"
     ]
    }
   ],
   "source": [
    "# original Dataset\n",
    "from autogluon.tabular import TabularPredictor\n",
    "\n",
    "# 指定目标列名\n",
    "label = 'target'\n",
    "\n",
    "predictor = TabularPredictor(label=label).fit(mean_brainwaves)"
   ],
   "metadata": {
    "collapsed": false,
    "ExecuteTime": {
     "end_time": "2024-05-01T08:38:21.250146Z",
     "start_time": "2024-05-01T08:37:44.576276Z"
    }
   },
   "id": "3f43d005c6e3ac9a"
  },
  {
   "cell_type": "code",
   "execution_count": 7,
   "outputs": [
    {
     "data": {
      "text/plain": "                  model  score_val eval_metric  pred_time_val   fit_time  \\\n0   WeightedEnsemble_L2   0.307927    accuracy       0.158767  29.077604   \n1              LightGBM   0.286585    accuracy       0.001188   3.279854   \n2       NeuralNetFastAI   0.286585    accuracy       0.005266   4.331172   \n3        NeuralNetTorch   0.285569    accuracy       0.003333   5.143878   \n4               XGBoost   0.284553    accuracy       0.003886   2.072057   \n5         LightGBMLarge   0.282520    accuracy       0.002111  12.702884   \n6              CatBoost   0.276423    accuracy       0.001143   1.201138   \n7            LightGBMXT   0.274390    accuracy       0.002504   3.587900   \n8      RandomForestGini   0.270325    accuracy       0.038980   0.514492   \n9      RandomForestEntr   0.269309    accuracy       0.038612   0.475667   \n10       KNeighborsDist   0.267276    accuracy       0.014425   0.008033   \n11       KNeighborsUnif   0.255081    accuracy       0.032487   0.751181   \n12       ExtraTreesEntr   0.255081    accuracy       0.050353   0.586517   \n13       ExtraTreesGini   0.255081    accuracy       0.070044   0.530827   \n\n    pred_time_val_marginal  fit_time_marginal  stack_level  can_infer  \\\n0                 0.000299           0.317889            2       True   \n1                 0.001188           3.279854            1       True   \n2                 0.005266           4.331172            1       True   \n3                 0.003333           5.143878            1       True   \n4                 0.003886           2.072057            1       True   \n5                 0.002111          12.702884            1       True   \n6                 0.001143           1.201138            1       True   \n7                 0.002504           3.587900            1       True   \n8                 0.038980           0.514492            1       True   \n9                 0.038612           0.475667            1       True   \n10                0.014425           0.008033            1       True   \n11                0.032487           0.751181            1       True   \n12                0.050353           0.586517            1       True   \n13                0.070044           0.530827            1       True   \n\n    fit_order  \n0          14  \n1           5  \n2           3  \n3          12  \n4          11  \n5          13  \n6           8  \n7           4  \n8           6  \n9           7  \n10          2  \n11          1  \n12         10  \n13          9  ",
      "text/html": "<div>\n<style scoped>\n    .dataframe tbody tr th:only-of-type {\n        vertical-align: middle;\n    }\n\n    .dataframe tbody tr th {\n        vertical-align: top;\n    }\n\n    .dataframe thead th {\n        text-align: right;\n    }\n</style>\n<table border=\"1\" class=\"dataframe\">\n  <thead>\n    <tr style=\"text-align: right;\">\n      <th></th>\n      <th>model</th>\n      <th>score_val</th>\n      <th>eval_metric</th>\n      <th>pred_time_val</th>\n      <th>fit_time</th>\n      <th>pred_time_val_marginal</th>\n      <th>fit_time_marginal</th>\n      <th>stack_level</th>\n      <th>can_infer</th>\n      <th>fit_order</th>\n    </tr>\n  </thead>\n  <tbody>\n    <tr>\n      <th>0</th>\n      <td>WeightedEnsemble_L2</td>\n      <td>0.307927</td>\n      <td>accuracy</td>\n      <td>0.158767</td>\n      <td>29.077604</td>\n      <td>0.000299</td>\n      <td>0.317889</td>\n      <td>2</td>\n      <td>True</td>\n      <td>14</td>\n    </tr>\n    <tr>\n      <th>1</th>\n      <td>LightGBM</td>\n      <td>0.286585</td>\n      <td>accuracy</td>\n      <td>0.001188</td>\n      <td>3.279854</td>\n      <td>0.001188</td>\n      <td>3.279854</td>\n      <td>1</td>\n      <td>True</td>\n      <td>5</td>\n    </tr>\n    <tr>\n      <th>2</th>\n      <td>NeuralNetFastAI</td>\n      <td>0.286585</td>\n      <td>accuracy</td>\n      <td>0.005266</td>\n      <td>4.331172</td>\n      <td>0.005266</td>\n      <td>4.331172</td>\n      <td>1</td>\n      <td>True</td>\n      <td>3</td>\n    </tr>\n    <tr>\n      <th>3</th>\n      <td>NeuralNetTorch</td>\n      <td>0.285569</td>\n      <td>accuracy</td>\n      <td>0.003333</td>\n      <td>5.143878</td>\n      <td>0.003333</td>\n      <td>5.143878</td>\n      <td>1</td>\n      <td>True</td>\n      <td>12</td>\n    </tr>\n    <tr>\n      <th>4</th>\n      <td>XGBoost</td>\n      <td>0.284553</td>\n      <td>accuracy</td>\n      <td>0.003886</td>\n      <td>2.072057</td>\n      <td>0.003886</td>\n      <td>2.072057</td>\n      <td>1</td>\n      <td>True</td>\n      <td>11</td>\n    </tr>\n    <tr>\n      <th>5</th>\n      <td>LightGBMLarge</td>\n      <td>0.282520</td>\n      <td>accuracy</td>\n      <td>0.002111</td>\n      <td>12.702884</td>\n      <td>0.002111</td>\n      <td>12.702884</td>\n      <td>1</td>\n      <td>True</td>\n      <td>13</td>\n    </tr>\n    <tr>\n      <th>6</th>\n      <td>CatBoost</td>\n      <td>0.276423</td>\n      <td>accuracy</td>\n      <td>0.001143</td>\n      <td>1.201138</td>\n      <td>0.001143</td>\n      <td>1.201138</td>\n      <td>1</td>\n      <td>True</td>\n      <td>8</td>\n    </tr>\n    <tr>\n      <th>7</th>\n      <td>LightGBMXT</td>\n      <td>0.274390</td>\n      <td>accuracy</td>\n      <td>0.002504</td>\n      <td>3.587900</td>\n      <td>0.002504</td>\n      <td>3.587900</td>\n      <td>1</td>\n      <td>True</td>\n      <td>4</td>\n    </tr>\n    <tr>\n      <th>8</th>\n      <td>RandomForestGini</td>\n      <td>0.270325</td>\n      <td>accuracy</td>\n      <td>0.038980</td>\n      <td>0.514492</td>\n      <td>0.038980</td>\n      <td>0.514492</td>\n      <td>1</td>\n      <td>True</td>\n      <td>6</td>\n    </tr>\n    <tr>\n      <th>9</th>\n      <td>RandomForestEntr</td>\n      <td>0.269309</td>\n      <td>accuracy</td>\n      <td>0.038612</td>\n      <td>0.475667</td>\n      <td>0.038612</td>\n      <td>0.475667</td>\n      <td>1</td>\n      <td>True</td>\n      <td>7</td>\n    </tr>\n    <tr>\n      <th>10</th>\n      <td>KNeighborsDist</td>\n      <td>0.267276</td>\n      <td>accuracy</td>\n      <td>0.014425</td>\n      <td>0.008033</td>\n      <td>0.014425</td>\n      <td>0.008033</td>\n      <td>1</td>\n      <td>True</td>\n      <td>2</td>\n    </tr>\n    <tr>\n      <th>11</th>\n      <td>KNeighborsUnif</td>\n      <td>0.255081</td>\n      <td>accuracy</td>\n      <td>0.032487</td>\n      <td>0.751181</td>\n      <td>0.032487</td>\n      <td>0.751181</td>\n      <td>1</td>\n      <td>True</td>\n      <td>1</td>\n    </tr>\n    <tr>\n      <th>12</th>\n      <td>ExtraTreesEntr</td>\n      <td>0.255081</td>\n      <td>accuracy</td>\n      <td>0.050353</td>\n      <td>0.586517</td>\n      <td>0.050353</td>\n      <td>0.586517</td>\n      <td>1</td>\n      <td>True</td>\n      <td>10</td>\n    </tr>\n    <tr>\n      <th>13</th>\n      <td>ExtraTreesGini</td>\n      <td>0.255081</td>\n      <td>accuracy</td>\n      <td>0.070044</td>\n      <td>0.530827</td>\n      <td>0.070044</td>\n      <td>0.530827</td>\n      <td>1</td>\n      <td>True</td>\n      <td>9</td>\n    </tr>\n  </tbody>\n</table>\n</div>"
     },
     "execution_count": 7,
     "metadata": {},
     "output_type": "execute_result"
    }
   ],
   "source": [
    "predictor.leaderboard()"
   ],
   "metadata": {
    "collapsed": false,
    "ExecuteTime": {
     "end_time": "2024-05-01T08:38:21.260338Z",
     "start_time": "2024-05-01T08:38:21.251377Z"
    }
   },
   "id": "870f79431ecbc053"
  },
  {
   "cell_type": "code",
   "execution_count": null,
   "outputs": [],
   "source": [],
   "metadata": {
    "collapsed": false
   },
   "id": "850fec05abf275f7"
  }
 ],
 "metadata": {
  "kernelspec": {
   "display_name": "Python 3",
   "language": "python",
   "name": "python3"
  },
  "language_info": {
   "codemirror_mode": {
    "name": "ipython",
    "version": 2
   },
   "file_extension": ".py",
   "mimetype": "text/x-python",
   "name": "python",
   "nbconvert_exporter": "python",
   "pygments_lexer": "ipython2",
   "version": "2.7.6"
  }
 },
 "nbformat": 4,
 "nbformat_minor": 5
}
