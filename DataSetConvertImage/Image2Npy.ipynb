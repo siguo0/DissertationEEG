{
 "cells": [
  {
   "cell_type": "markdown",
   "source": [
    "## MelSpectrogram"
   ],
   "metadata": {
    "collapsed": false
   },
   "id": "9c4ffc3833ba8cb4"
  },
  {
   "cell_type": "code",
   "execution_count": 3,
   "outputs": [
    {
     "name": "stderr",
     "output_type": "stream",
     "text": [
      "100%|██████████| 123/123 [28:29<00:00, 13.90s/it]\n",
      "100%|██████████| 31/31 [06:59<00:00, 13.52s/it]\n"
     ]
    }
   ],
   "source": [
    "import torch\n",
    "import torchvision\n",
    "import torchvision.transforms as transforms\n",
    "from torchvision import datasets, models\n",
    "from torch.utils.data import DataLoader, random_split\n",
    "import numpy as np\n",
    "from tqdm import tqdm\n",
    "import gc\n",
    "\n",
    "# 1. 数据处理\n",
    "data_dir = '/Volumes/T7 Shield/EEGdataset/DatasetImageEEG'\n",
    "transform = transforms.Compose([\n",
    "    transforms.Resize((224, 224)),\n",
    "    transforms.ToTensor(),\n",
    "    transforms.Normalize(mean=[0.485, 0.456, 0.406], std=[0.229, 0.224, 0.225])\n",
    "])\n",
    "\n",
    "full_dataset = datasets.ImageFolder(root=f'{data_dir}', transform=transform)\n",
    "\n",
    "# 划分数据集为训练集和验证集 (例如 80% 训练，20% 验证)\n",
    "train_size = int(0.8 * len(full_dataset))\n",
    "val_size = len(full_dataset) - train_size\n",
    "train_dataset, val_dataset = random_split(full_dataset, [train_size, val_size])\n",
    "\n",
    "train_loader = DataLoader(train_dataset, batch_size=64, shuffle=True)\n",
    "val_loader = DataLoader(val_dataset, batch_size=64, shuffle=False)\n",
    "\n",
    "\n",
    "def batch_save_to_npy(loader, image_path_prefix, label_path_prefix):\n",
    "    # 每次处理并保存一小批数据\n",
    "    batch_index = 0\n",
    "    for inputs, labels in tqdm(loader):\n",
    "\n",
    "        image_path = f\"{image_path_prefix}batch_{batch_index}.npy\"\n",
    "        label_path = f\"{label_path_prefix}batch_{batch_index}.npy\"\n",
    "        np.save(image_path, inputs.numpy())\n",
    "        np.save(label_path, labels.numpy())\n",
    "        batch_index += 1\n",
    "        # print(f\"Saved batch {batch_index} to {image_path} and {label_path}\")\n",
    "        gc.collect()\n",
    "\n",
    "\n",
    "# 使用函数保存训练数据和验证数据\n",
    "batch_save_to_npy(train_loader, '/Volumes/T7 Shield/EEGdataset/trainNpy/',\n",
    "                   '/Volumes/T7 Shield/EEGdataset/trainLabel/')\n",
    "batch_save_to_npy(val_loader, '/Volumes/T7 Shield/EEGdataset/valNpy/',\n",
    "                   '/Volumes/T7 Shield/EEGdataset/valLabel/')\n",
    "\n"
   ],
   "metadata": {
    "collapsed": false,
    "ExecuteTime": {
     "start_time": "2024-05-05T13:03:04.469568Z"
    }
   },
   "id": "initial_id"
  },
  {
   "cell_type": "markdown",
   "source": [
    "## Frequency Data Image"
   ],
   "metadata": {
    "collapsed": false
   },
   "id": "113c1f97d05b6977"
  },
  {
   "cell_type": "code",
   "execution_count": 4,
   "outputs": [
    {
     "name": "stderr",
     "output_type": "stream",
     "text": [
      "100%|██████████| 123/123 [09:33<00:00,  4.66s/it]\n",
      "100%|██████████| 31/31 [02:27<00:00,  4.74s/it]\n"
     ]
    }
   ],
   "source": [
    "import torch\n",
    "import torchvision\n",
    "import torchvision.transforms as transforms\n",
    "from torchvision import datasets, models\n",
    "from torch.utils.data import DataLoader, random_split\n",
    "import numpy as np\n",
    "from tqdm import tqdm\n",
    "import gc\n",
    "\n",
    "# 1. 数据处理\n",
    "data_dir = '/Volumes/T7 Shield/EEGdataset/FrequencyImage/'\n",
    "transform = transforms.Compose([\n",
    "    transforms.Resize((224, 224)),\n",
    "    transforms.ToTensor(),\n",
    "    transforms.Normalize(mean=[0.485, 0.456, 0.406], std=[0.229, 0.224, 0.225])\n",
    "])\n",
    "\n",
    "full_dataset = datasets.ImageFolder(root=f'{data_dir}', transform=transform)\n",
    "\n",
    "# 划分数据集为训练集和验证集 (例如 80% 训练，20% 验证)\n",
    "train_size = int(0.8 * len(full_dataset))\n",
    "val_size = len(full_dataset) - train_size\n",
    "train_dataset, val_dataset = random_split(full_dataset, [train_size, val_size])\n",
    "\n",
    "train_loader = DataLoader(train_dataset, batch_size=64, shuffle=True)\n",
    "val_loader = DataLoader(val_dataset, batch_size=64, shuffle=False)\n",
    "\n",
    "\n",
    "def batch_save_to_npy(loader, image_path_prefix, label_path_prefix):\n",
    "    # 每次处理并保存一小批数据\n",
    "    batch_index = 0\n",
    "    for inputs, labels in tqdm(loader):\n",
    "\n",
    "        image_path = f\"{image_path_prefix}batch_{batch_index}.npy\"\n",
    "        label_path = f\"{label_path_prefix}batch_{batch_index}.npy\"\n",
    "        np.save(image_path, inputs.numpy())\n",
    "        np.save(label_path, labels.numpy())\n",
    "        batch_index += 1\n",
    "        # print(f\"Saved batch {batch_index} to {image_path} and {label_path}\")\n",
    "        gc.collect()\n",
    "\n",
    "\n",
    "# 使用函数保存训练数据和验证数据\n",
    "batch_save_to_npy(train_loader, '/Volumes/T7 Shield/EEGdataset/FrequencyTrainData/',\n",
    "                   '/Volumes/T7 Shield/EEGdataset/FrequencyTrainLabel/')\n",
    "batch_save_to_npy(val_loader, '/Volumes/T7 Shield/EEGdataset/FrequencyValData/',\n",
    "                   '/Volumes/T7 Shield/EEGdataset/FrequencyValLabel/')\n",
    "\n"
   ],
   "metadata": {
    "collapsed": false,
    "ExecuteTime": {
     "end_time": "2024-05-06T09:07:11.178915Z",
     "start_time": "2024-05-06T08:55:10.919804Z"
    }
   },
   "id": "d528fd56eab10086"
  },
  {
   "cell_type": "markdown",
   "source": [
    "## TimeFrequency"
   ],
   "metadata": {
    "collapsed": false
   },
   "id": "fca3889ced44f7a5"
  },
  {
   "cell_type": "code",
   "execution_count": 5,
   "outputs": [
    {
     "name": "stderr",
     "output_type": "stream",
     "text": [
      "100%|██████████| 123/123 [24:10<00:00, 11.79s/it]\n",
      "100%|██████████| 31/31 [06:09<00:00, 11.91s/it]\n"
     ]
    }
   ],
   "source": [
    "import torch\n",
    "import torchvision\n",
    "import torchvision.transforms as transforms\n",
    "from torchvision import datasets, models\n",
    "from torch.utils.data import DataLoader, random_split\n",
    "import numpy as np\n",
    "from tqdm import tqdm\n",
    "import gc\n",
    "\n",
    "# 1. 数据处理\n",
    "data_dir = '/Volumes/T7 Shield/EEGdataset/TimeFrequencyEEG/'\n",
    "transform = transforms.Compose([\n",
    "    transforms.Resize((224, 224)),\n",
    "    transforms.ToTensor(),\n",
    "    transforms.Normalize(mean=[0.485, 0.456, 0.406], std=[0.229, 0.224, 0.225])\n",
    "])\n",
    "\n",
    "full_dataset = datasets.ImageFolder(root=f'{data_dir}', transform=transform)\n",
    "\n",
    "# 划分数据集为训练集和验证集 (例如 80% 训练，20% 验证)\n",
    "train_size = int(0.8 * len(full_dataset))\n",
    "val_size = len(full_dataset) - train_size\n",
    "train_dataset, val_dataset = random_split(full_dataset, [train_size, val_size])\n",
    "\n",
    "train_loader = DataLoader(train_dataset, batch_size=64, shuffle=True)\n",
    "val_loader = DataLoader(val_dataset, batch_size=64, shuffle=False)\n",
    "\n",
    "\n",
    "def batch_save_to_npy(loader, image_path_prefix, label_path_prefix):\n",
    "    # 每次处理并保存一小批数据\n",
    "    batch_index = 0\n",
    "    for inputs, labels in tqdm(loader):\n",
    "\n",
    "        image_path = f\"{image_path_prefix}batch_{batch_index}.npy\"\n",
    "        label_path = f\"{label_path_prefix}batch_{batch_index}.npy\"\n",
    "        np.save(image_path, inputs.numpy())\n",
    "        np.save(label_path, labels.numpy())\n",
    "        batch_index += 1\n",
    "        # print(f\"Saved batch {batch_index} to {image_path} and {label_path}\")\n",
    "        gc.collect()\n",
    "\n",
    "\n",
    "# 使用函数保存训练数据和验证数据\n",
    "batch_save_to_npy(train_loader, '/Volumes/T7 Shield/EEGdataset/TimeFrequencyTrainData/',\n",
    "                   '/Volumes/T7 Shield/EEGdataset/TimeFrequencyTrainLabel/')\n",
    "batch_save_to_npy(val_loader, '/Volumes/T7 Shield/EEGdataset/TimeFrequencyValData/',\n",
    "                   '/Volumes/T7 Shield/EEGdataset/TimeFrequencyValLabel/')\n",
    "\n"
   ],
   "metadata": {
    "collapsed": false,
    "ExecuteTime": {
     "end_time": "2024-05-06T15:29:38.668317Z",
     "start_time": "2024-05-06T14:59:18.721418Z"
    }
   },
   "id": "3f42c6250faf8a71"
  },
  {
   "cell_type": "code",
   "execution_count": null,
   "outputs": [],
   "source": [],
   "metadata": {
    "collapsed": false
   },
   "id": "6255d972a78242a1"
  }
 ],
 "metadata": {
  "kernelspec": {
   "display_name": "Python 3",
   "language": "python",
   "name": "python3"
  },
  "language_info": {
   "codemirror_mode": {
    "name": "ipython",
    "version": 2
   },
   "file_extension": ".py",
   "mimetype": "text/x-python",
   "name": "python",
   "nbconvert_exporter": "python",
   "pygments_lexer": "ipython2",
   "version": "2.7.6"
  }
 },
 "nbformat": 4,
 "nbformat_minor": 5
}
